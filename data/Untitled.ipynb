{
 "cells": [
  {
   "cell_type": "code",
   "execution_count": null,
   "metadata": {},
   "outputs": [],
   "source": []
  },
  {
   "cell_type": "code",
   "execution_count": 1,
   "metadata": {},
   "outputs": [
    {
     "name": "stdout",
     "output_type": "stream",
     "text": [
      " * Serving Flask app \"__main__\" (lazy loading)\n",
      " * Environment: production\n",
      "   WARNING: This is a development server. Do not use it in a production deployment.\n",
      "   Use a production WSGI server instead.\n",
      " * Debug mode: on\n"
     ]
    },
    {
     "name": "stderr",
     "output_type": "stream",
     "text": [
      " * Restarting with windowsapi reloader\n"
     ]
    },
    {
     "ename": "SystemExit",
     "evalue": "1",
     "output_type": "error",
     "traceback": [
      "An exception has occurred, use %tb to see the full traceback.\n",
      "\u001b[1;31mSystemExit\u001b[0m\u001b[1;31m:\u001b[0m 1\n"
     ]
    },
    {
     "name": "stderr",
     "output_type": "stream",
     "text": [
      "C:\\Users\\François-Xavier\\AppData\\Roaming\\Python\\Python38\\site-packages\\IPython\\core\\interactiveshell.py:3452: UserWarning: To exit: use 'exit', 'quit', or Ctrl-D.\n",
      "  warn(\"To exit: use 'exit', 'quit', or Ctrl-D.\", stacklevel=1)\n"
     ]
    }
   ],
   "source": [
    "# -*- coding: utf-8 -*-\n",
    "\"\"\"\n",
    "Created on Wed Nov  3 22:49:23 2021\n",
    "\n",
    "@author: François-Xavier\n",
    "\"\"\"\n",
    "\n",
    "from flask import Flask,render_template,url_for,request\n",
    "import pandas as pd \n",
    "import pickle\n",
    "from sklearn.feature_extraction.text import CountVectorizer\n",
    "from sklearn.naive_bayes import MultinomialNB\n",
    "# from sklearn.externals import joblib : attention : déprécié , on utilise de nos jours juste joblib\n",
    "import joblib\n",
    "\n",
    "\n",
    "app = Flask(__name__)\n",
    "\n",
    "@app.route('/')\n",
    "def home():\n",
    "\treturn render_template('home_tag.html')\n",
    "\n",
    "@app.route('/predict',methods=['POST'])\n",
    "def predict():\n",
    "    \n",
    "    df = pd.read_csv(\"spam.csv\", encoding=\"latin-1\")\n",
    "    df.drop(['Unnamed: 2', 'Unnamed: 3', 'Unnamed: 4'], axis=1, inplace=True)\n",
    "    df.rename(columns = {'v1':\"label\",'v2':\"message\"},inplace = True)\n",
    "    df['label'] = df['label'].map({'ham': 0, 'spam': 1})\n",
    "    X = df['message']\n",
    "    y = df['label']\n",
    "\n",
    "\t\n",
    "   \t# Extract Feature With CountVectorizer\n",
    "    cv = CountVectorizer()\n",
    "    X = cv.fit_transform(X) # Fit the Data\n",
    "    from sklearn.model_selection import train_test_split\n",
    "    X_train, X_test, y_train, y_test = train_test_split(X, y, test_size=0.33, random_state=42)\n",
    "   \t#Naive Bayes Classifier\n",
    "    from sklearn.naive_bayes import MultinomialNB\n",
    "\n",
    "    clf = MultinomialNB()\n",
    "    clf.fit(X_train,y_train)\n",
    "    clf.score(X_test,y_test)\n",
    "\t#Alternative Usage of Saved Model\n",
    "\t# joblib.dump(clf, 'NB_spam_model.pkl')\n",
    "\t# NB_spam_model = open('NB_spam_model.pkl','rb')\n",
    "\t# clf = joblib.load(NB_spam_model)\n",
    "\n",
    "    if request.method == 'POST':\n",
    "    \tmessage = request.form['message']\n",
    "    \tdata = [message]\n",
    "    \tvect = cv.transform(data).toarray()\n",
    "    \tmy_prediction = clf.predict(vect)\n",
    "    return render_template('result_tag.html',prediction = my_prediction)\n",
    "\n",
    "\n",
    "\n",
    "if __name__ == '__main__':\n",
    "\tapp.run(debug=True)\n",
    "    \n",
    "    "
   ]
  },
  {
   "cell_type": "code",
   "execution_count": null,
   "metadata": {},
   "outputs": [],
   "source": []
  }
 ],
 "metadata": {
  "kernelspec": {
   "display_name": "Python 3",
   "language": "python",
   "name": "python3"
  },
  "language_info": {
   "codemirror_mode": {
    "name": "ipython",
    "version": 3
   },
   "file_extension": ".py",
   "mimetype": "text/x-python",
   "name": "python",
   "nbconvert_exporter": "python",
   "pygments_lexer": "ipython3",
   "version": "3.8.5"
  }
 },
 "nbformat": 4,
 "nbformat_minor": 4
}
